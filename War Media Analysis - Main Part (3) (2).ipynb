{
 "cells": [
  {
   "cell_type": "markdown",
   "id": "53b43bad",
   "metadata": {},
   "source": [
    "# War Media Analysis by Anhelina Babii and Dariia Kolodiazhna - Main Part"
   ]
  },
  {
   "cell_type": "markdown",
   "id": "ff59d214",
   "metadata": {},
   "source": [
    "#### In this project we collect the data, save it and perform thorough analysis on the downloaded tweets to see certain patterns and tendencies in russian rhetoric."
   ]
  },
  {
   "cell_type": "markdown",
   "id": "917e01b8",
   "metadata": {},
   "source": [
    "#### Our hypothesis is thatmost of Russian media, especially state-affiliated, are propagandistic, meaning the news articles posted constist of facts that are either exaggerated or non-existent."
   ]
  },
  {
   "cell_type": "markdown",
   "id": "9b4beac2",
   "metadata": {},
   "source": [
    "#### The list of used libraries"
   ]
  },
  {
   "cell_type": "code",
   "execution_count": 2,
   "id": "d3b9c328",
   "metadata": {},
   "outputs": [
    {
     "name": "stdout",
     "output_type": "stream",
     "text": [
      "Requirement already satisfied: nltk in c:\\users\\dariia\\anaconda3\\lib\\site-packages (3.7)\n",
      "Requirement already satisfied: click in c:\\users\\dariia\\anaconda3\\lib\\site-packages (from nltk) (8.0.4)\n",
      "Requirement already satisfied: regex>=2021.8.3 in c:\\users\\dariia\\anaconda3\\lib\\site-packages (from nltk) (2022.3.15)\n",
      "Requirement already satisfied: tqdm in c:\\users\\dariia\\anaconda3\\lib\\site-packages (from nltk) (4.64.0)\n",
      "Requirement already satisfied: joblib in c:\\users\\dariia\\anaconda3\\lib\\site-packages (from nltk) (1.1.0)\n",
      "Requirement already satisfied: colorama in c:\\users\\dariia\\anaconda3\\lib\\site-packages (from click->nltk) (0.4.4)\n",
      "Note: you may need to restart the kernel to use updated packages.\n"
     ]
    }
   ],
   "source": [
    "pip install nltk"
   ]
  },
  {
   "cell_type": "code",
   "execution_count": 1,
   "id": "78d0af51",
   "metadata": {},
   "outputs": [],
   "source": [
    "import nltk\n",
    "import dostoevsky"
   ]
  },
  {
   "cell_type": "code",
   "execution_count": 109,
   "id": "9936b560",
   "metadata": {},
   "outputs": [],
   "source": [
    "import pandas as pd\n",
    "from sklearn.feature_extraction.text import TfidfVectorizer\n",
    "from sklearn.feature_extraction.text import CountVectorizer\n",
    "import datetime\n",
    "import matplotlib.pyplot as plt\n",
    "import string as st\n",
    "from nltk.tokenize import word_tokenize\n",
    "import simplemma\n",
    "from simplemma import text_lemmatizer\n",
    "import nltk\n",
    "from nltk.corpus import stopwords\n",
    "from string import punctuation\n",
    "from pymystem3 import Mystem\n",
    "import dostoevsky\n",
    "import numpy as np"
   ]
  },
  {
   "cell_type": "markdown",
   "id": "0983043c",
   "metadata": {},
   "source": [
    "## Step 1: Preparing the data at last"
   ]
  },
  {
   "cell_type": "markdown",
   "id": "bc52d9e8",
   "metadata": {},
   "source": [
    "#### Our dataset does have a column for timestamp, but the data there is too excessive and complicated - in fact, we only need the year, month and date information. "
   ]
  },
  {
   "cell_type": "code",
   "execution_count": 4,
   "id": "5048b6e6",
   "metadata": {},
   "outputs": [],
   "source": [
    "df = pd.read_csv('bid_set.csv')"
   ]
  },
  {
   "cell_type": "code",
   "execution_count": 5,
   "id": "b09702e4",
   "metadata": {},
   "outputs": [],
   "source": [
    "df['New Date'] = ''"
   ]
  },
  {
   "cell_type": "code",
   "execution_count": 6,
   "id": "9102a978",
   "metadata": {},
   "outputs": [
    {
     "name": "stderr",
     "output_type": "stream",
     "text": [
      "C:\\Users\\Dariia\\AppData\\Local\\Temp\\ipykernel_19904\\1761499718.py:7: SettingWithCopyWarning: \n",
      "A value is trying to be set on a copy of a slice from a DataFrame\n",
      "\n",
      "See the caveats in the documentation: https://pandas.pydata.org/pandas-docs/stable/user_guide/indexing.html#returning-a-view-versus-a-copy\n",
      "  df['New Date'][i] = newdate\n"
     ]
    }
   ],
   "source": [
    "for i in range(len(df)):\n",
    "    r = df['Date'][i]\n",
    "    y = r[0:4]\n",
    "    m = r[5:7]\n",
    "    d = r[8:10]\n",
    "    newdate = y + '-' + m + '-' + d\n",
    "    df['New Date'][i] = newdate"
   ]
  },
  {
   "cell_type": "code",
   "execution_count": 7,
   "id": "82f8df95",
   "metadata": {},
   "outputs": [
    {
     "data": {
      "text/html": [
       "<div>\n",
       "<style scoped>\n",
       "    .dataframe tbody tr th:only-of-type {\n",
       "        vertical-align: middle;\n",
       "    }\n",
       "\n",
       "    .dataframe tbody tr th {\n",
       "        vertical-align: top;\n",
       "    }\n",
       "\n",
       "    .dataframe thead th {\n",
       "        text-align: right;\n",
       "    }\n",
       "</style>\n",
       "<table border=\"1\" class=\"dataframe\">\n",
       "  <thead>\n",
       "    <tr style=\"text-align: right;\">\n",
       "      <th></th>\n",
       "      <th>Unnamed: 0</th>\n",
       "      <th>Date</th>\n",
       "      <th>User</th>\n",
       "      <th>Tweet</th>\n",
       "      <th>New Date</th>\n",
       "    </tr>\n",
       "  </thead>\n",
       "  <tbody>\n",
       "    <tr>\n",
       "      <th>0</th>\n",
       "      <td>0</td>\n",
       "      <td>2022-09-23 16:55:00+00:00</td>\n",
       "      <td>tvrain</td>\n",
       "      <td>Включайте Дождь в 20.00. Тихон Дзядко подведет...</td>\n",
       "      <td>2022-09-23</td>\n",
       "    </tr>\n",
       "    <tr>\n",
       "      <th>1</th>\n",
       "      <td>1</td>\n",
       "      <td>2022-09-21 13:21:04+00:00</td>\n",
       "      <td>tvrain</td>\n",
       "      <td>Мы продолжаем знакомить вас с антивоенной поэз...</td>\n",
       "      <td>2022-09-21</td>\n",
       "    </tr>\n",
       "    <tr>\n",
       "      <th>2</th>\n",
       "      <td>2</td>\n",
       "      <td>2022-09-21 10:53:55+00:00</td>\n",
       "      <td>tvrain</td>\n",
       "      <td>Спецэфир на Дожде в 14:00 (мск). Будем обсужда...</td>\n",
       "      <td>2022-09-21</td>\n",
       "    </tr>\n",
       "    <tr>\n",
       "      <th>3</th>\n",
       "      <td>3</td>\n",
       "      <td>2022-09-20 17:12:38+00:00</td>\n",
       "      <td>tvrain</td>\n",
       "      <td>Что Путин и Шойгу скажут в обращениях, почему ...</td>\n",
       "      <td>2022-09-20</td>\n",
       "    </tr>\n",
       "    <tr>\n",
       "      <th>4</th>\n",
       "      <td>4</td>\n",
       "      <td>2022-09-20 14:45:02+00:00</td>\n",
       "      <td>tvrain</td>\n",
       "      <td>Кремль готовит срочные «референдумы» на оккупи...</td>\n",
       "      <td>2022-09-20</td>\n",
       "    </tr>\n",
       "    <tr>\n",
       "      <th>...</th>\n",
       "      <td>...</td>\n",
       "      <td>...</td>\n",
       "      <td>...</td>\n",
       "      <td>...</td>\n",
       "      <td>...</td>\n",
       "    </tr>\n",
       "    <tr>\n",
       "      <th>22473</th>\n",
       "      <td>22473</td>\n",
       "      <td>2022-02-24 05:41:00+00:00</td>\n",
       "      <td>SvobodaRadio</td>\n",
       "      <td>Все новости на 7:40. Россия напала на Украину....</td>\n",
       "      <td>2022-02-24</td>\n",
       "    </tr>\n",
       "    <tr>\n",
       "      <th>22474</th>\n",
       "      <td>22474</td>\n",
       "      <td>2022-02-24 04:54:34+00:00</td>\n",
       "      <td>SvobodaRadio</td>\n",
       "      <td>Зеленский объявил о введении военного положени...</td>\n",
       "      <td>2022-02-24</td>\n",
       "    </tr>\n",
       "    <tr>\n",
       "      <th>22475</th>\n",
       "      <td>22475</td>\n",
       "      <td>2022-02-24 04:43:13+00:00</td>\n",
       "      <td>SvobodaRadio</td>\n",
       "      <td>Министр иностранных дел Украины Дмитрий Кулеба...</td>\n",
       "      <td>2022-02-24</td>\n",
       "    </tr>\n",
       "    <tr>\n",
       "      <th>22476</th>\n",
       "      <td>22476</td>\n",
       "      <td>2022-02-24 04:36:26+00:00</td>\n",
       "      <td>SvobodaRadio</td>\n",
       "      <td>Даже видео Путина старое, записано ещё 21 февр...</td>\n",
       "      <td>2022-02-24</td>\n",
       "    </tr>\n",
       "    <tr>\n",
       "      <th>22477</th>\n",
       "      <td>22477</td>\n",
       "      <td>2022-02-24 04:27:16+00:00</td>\n",
       "      <td>SvobodaRadio</td>\n",
       "      <td>ВОЙНА НАЧАЛАСЬ\\n\\nПутин объявил о начале \"спец...</td>\n",
       "      <td>2022-02-24</td>\n",
       "    </tr>\n",
       "  </tbody>\n",
       "</table>\n",
       "<p>22478 rows × 5 columns</p>\n",
       "</div>"
      ],
      "text/plain": [
       "       Unnamed: 0                       Date          User  \\\n",
       "0               0  2022-09-23 16:55:00+00:00        tvrain   \n",
       "1               1  2022-09-21 13:21:04+00:00        tvrain   \n",
       "2               2  2022-09-21 10:53:55+00:00        tvrain   \n",
       "3               3  2022-09-20 17:12:38+00:00        tvrain   \n",
       "4               4  2022-09-20 14:45:02+00:00        tvrain   \n",
       "...           ...                        ...           ...   \n",
       "22473       22473  2022-02-24 05:41:00+00:00  SvobodaRadio   \n",
       "22474       22474  2022-02-24 04:54:34+00:00  SvobodaRadio   \n",
       "22475       22475  2022-02-24 04:43:13+00:00  SvobodaRadio   \n",
       "22476       22476  2022-02-24 04:36:26+00:00  SvobodaRadio   \n",
       "22477       22477  2022-02-24 04:27:16+00:00  SvobodaRadio   \n",
       "\n",
       "                                                   Tweet    New Date  \n",
       "0      Включайте Дождь в 20.00. Тихон Дзядко подведет...  2022-09-23  \n",
       "1      Мы продолжаем знакомить вас с антивоенной поэз...  2022-09-21  \n",
       "2      Спецэфир на Дожде в 14:00 (мск). Будем обсужда...  2022-09-21  \n",
       "3      Что Путин и Шойгу скажут в обращениях, почему ...  2022-09-20  \n",
       "4      Кремль готовит срочные «референдумы» на оккупи...  2022-09-20  \n",
       "...                                                  ...         ...  \n",
       "22473  Все новости на 7:40. Россия напала на Украину....  2022-02-24  \n",
       "22474  Зеленский объявил о введении военного положени...  2022-02-24  \n",
       "22475  Министр иностранных дел Украины Дмитрий Кулеба...  2022-02-24  \n",
       "22476  Даже видео Путина старое, записано ещё 21 февр...  2022-02-24  \n",
       "22477  ВОЙНА НАЧАЛАСЬ\\n\\nПутин объявил о начале \"спец...  2022-02-24  \n",
       "\n",
       "[22478 rows x 5 columns]"
      ]
     },
     "execution_count": 7,
     "metadata": {},
     "output_type": "execute_result"
    }
   ],
   "source": [
    "df"
   ]
  },
  {
   "cell_type": "code",
   "execution_count": 8,
   "id": "1efebfd3",
   "metadata": {},
   "outputs": [],
   "source": [
    "df['New Date'] = pd.to_datetime(df['New Date'], format='%Y-%m-%d %H:%M:%S')"
   ]
  },
  {
   "cell_type": "code",
   "execution_count": 9,
   "id": "ecaa43bc",
   "metadata": {},
   "outputs": [
    {
     "data": {
      "text/plain": [
       "Unnamed: 0             int64\n",
       "Date                  object\n",
       "User                  object\n",
       "Tweet                 object\n",
       "New Date      datetime64[ns]\n",
       "dtype: object"
      ]
     },
     "execution_count": 9,
     "metadata": {},
     "output_type": "execute_result"
    }
   ],
   "source": [
    "df.dtypes"
   ]
  },
  {
   "cell_type": "markdown",
   "id": "2002c9a5",
   "metadata": {},
   "source": [
    "## Step 2: Finally work on the data"
   ]
  },
  {
   "cell_type": "markdown",
   "id": "35632e11",
   "metadata": {},
   "source": [
    "### 1. Connection between certain words used in articles and things that happened on these dates"
   ]
  },
  {
   "cell_type": "code",
   "execution_count": 10,
   "id": "dddffd3e",
   "metadata": {},
   "outputs": [],
   "source": [
    "data = pd.DataFrame(df, columns = ['Tweet', 'New Date'])\n",
    "data['month'] = pd.DatetimeIndex(data['New Date']).month\n",
    "kherson = data[data['Tweet'].str.contains('Херсон')].groupby('month').count()\n",
    "shoygu = data[data['Tweet'].str.contains('Шойгу')].groupby('month').count()\n",
    "voyn = data[data['Tweet'].str.contains('войн')].groupby('month').count()\n",
    "otstup = data[data['Tweet'].str.contains('отступ')].groupby('month').count()\n",
    "putin = data[data['Tweet'].str.contains('Путин')].groupby('month').count()"
   ]
  },
  {
   "cell_type": "code",
   "execution_count": 11,
   "id": "74ba1fb5",
   "metadata": {},
   "outputs": [
    {
     "data": {
      "image/png": "[encoded data removed]",
      "text/plain": [
       "<Figure size 432x288 with 1 Axes>"
      ]
     },
     "metadata": {
      "needs_background": "light"
     },
     "output_type": "display_data"
    }
   ],
   "source": [
    "plt.plot(kherson, c = 'green', label = 'Херсон(Kherson)')\n",
    "plt.plot(shoygu, c = 'red', label = 'шойгу(shoygu)')\n",
    "plt.plot(otstup, c = 'purple', label = 'отступ- (otstup)')\n",
    "plt.plot(voyn, c = 'blue', label = 'войн- (voyn)')\n",
    "plt.plot(putin, c = 'orange', label = 'путин(putin)')\n",
    "plt.legend()\n",
    "plt.show()"
   ]
  },
  {
   "cell_type": "markdown",
   "id": "fb52ff4a",
   "metadata": {},
   "source": [
    "## 2. Number of posts per day connected to things that happened"
   ]
  },
  {
   "cell_type": "code",
   "execution_count": 12,
   "id": "98fa240e",
   "metadata": {},
   "outputs": [],
   "source": [
    "data['day'] = pd.DatetimeIndex(data['New Date']).day\n",
    "freq1 = data.groupby(['month', 'day']).count()"
   ]
  },
  {
   "cell_type": "code",
   "execution_count": 13,
   "id": "9a91be2d",
   "metadata": {},
   "outputs": [
    {
     "data": {
      "text/plain": [
       "223"
      ]
     },
     "execution_count": 13,
     "metadata": {},
     "output_type": "execute_result"
    }
   ],
   "source": [
    "max(freq1['Tweet'])"
   ]
  },
  {
   "cell_type": "code",
   "execution_count": 14,
   "id": "d892349d",
   "metadata": {},
   "outputs": [
    {
     "name": "stdout",
     "output_type": "stream",
     "text": [
      "           Tweet  New Date\n",
      "month day                 \n",
      "2     24     223       223\n"
     ]
    }
   ],
   "source": [
    "print(freq1[freq1.Tweet == freq1.Tweet.max()])"
   ]
  },
  {
   "cell_type": "code",
   "execution_count": 15,
   "id": "522ea812",
   "metadata": {},
   "outputs": [
    {
     "data": {
      "text/html": [
       "<div>\n",
       "<style scoped>\n",
       "    .dataframe tbody tr th:only-of-type {\n",
       "        vertical-align: middle;\n",
       "    }\n",
       "\n",
       "    .dataframe tbody tr th {\n",
       "        vertical-align: top;\n",
       "    }\n",
       "\n",
       "    .dataframe thead th {\n",
       "        text-align: right;\n",
       "    }\n",
       "</style>\n",
       "<table border=\"1\" class=\"dataframe\">\n",
       "  <thead>\n",
       "    <tr style=\"text-align: right;\">\n",
       "      <th></th>\n",
       "      <th></th>\n",
       "      <th>Tweet</th>\n",
       "      <th>New Date</th>\n",
       "    </tr>\n",
       "    <tr>\n",
       "      <th>month</th>\n",
       "      <th>day</th>\n",
       "      <th></th>\n",
       "      <th></th>\n",
       "    </tr>\n",
       "  </thead>\n",
       "  <tbody>\n",
       "    <tr>\n",
       "      <th>2</th>\n",
       "      <th>24</th>\n",
       "      <td>223</td>\n",
       "      <td>223</td>\n",
       "    </tr>\n",
       "    <tr>\n",
       "      <th>3</th>\n",
       "      <th>16</th>\n",
       "      <td>201</td>\n",
       "      <td>201</td>\n",
       "    </tr>\n",
       "    <tr>\n",
       "      <th>9</th>\n",
       "      <th>21</th>\n",
       "      <td>195</td>\n",
       "      <td>195</td>\n",
       "    </tr>\n",
       "  </tbody>\n",
       "</table>\n",
       "</div>"
      ],
      "text/plain": [
       "           Tweet  New Date\n",
       "month day                 \n",
       "2     24     223       223\n",
       "3     16     201       201\n",
       "9     21     195       195"
      ]
     },
     "execution_count": 15,
     "metadata": {},
     "output_type": "execute_result"
    }
   ],
   "source": [
    "freq1.sort_values(by = 'Tweet', ascending = False).head(3)"
   ]
  },
  {
   "cell_type": "code",
   "execution_count": null,
   "id": "398384d1",
   "metadata": {},
   "outputs": [],
   "source": []
  },
  {
   "cell_type": "code",
   "execution_count": 16,
   "id": "b443a6e6",
   "metadata": {},
   "outputs": [
    {
     "data": {
      "text/plain": [
       "Text(0, 0.5, 'Number')"
      ]
     },
     "execution_count": 16,
     "metadata": {},
     "output_type": "execute_result"
    },
    {
     "data": {
      "image/png": "[encoded data removed]",
      "text/plain": [
       "<Figure size 432x288 with 1 Axes>"
      ]
     },
     "metadata": {
      "needs_background": "light"
     },
     "output_type": "display_data"
    }
   ],
   "source": [
    "freq1.plot(c = 'blue')\n",
    "plt.legend(['# of Tweets per Day'])\n",
    "plt.ylabel('Number')"
   ]
  },
  {
   "cell_type": "code",
   "execution_count": 17,
   "id": "2c7181b7",
   "metadata": {},
   "outputs": [
    {
     "data": {
      "text/html": [
       "<div>\n",
       "<style scoped>\n",
       "    .dataframe tbody tr th:only-of-type {\n",
       "        vertical-align: middle;\n",
       "    }\n",
       "\n",
       "    .dataframe tbody tr th {\n",
       "        vertical-align: top;\n",
       "    }\n",
       "\n",
       "    .dataframe thead th {\n",
       "        text-align: right;\n",
       "    }\n",
       "</style>\n",
       "<table border=\"1\" class=\"dataframe\">\n",
       "  <thead>\n",
       "    <tr style=\"text-align: right;\">\n",
       "      <th></th>\n",
       "      <th>Unnamed: 0</th>\n",
       "      <th>Date</th>\n",
       "      <th>Tweet</th>\n",
       "      <th>New Date</th>\n",
       "    </tr>\n",
       "    <tr>\n",
       "      <th>User</th>\n",
       "      <th></th>\n",
       "      <th></th>\n",
       "      <th></th>\n",
       "      <th></th>\n",
       "    </tr>\n",
       "  </thead>\n",
       "  <tbody>\n",
       "    <tr>\n",
       "      <th>ukraina_ru</th>\n",
       "      <td>10000</td>\n",
       "      <td>10000</td>\n",
       "      <td>10000</td>\n",
       "      <td>10000</td>\n",
       "    </tr>\n",
       "    <tr>\n",
       "      <th>bbcrussian</th>\n",
       "      <td>4753</td>\n",
       "      <td>4753</td>\n",
       "      <td>4753</td>\n",
       "      <td>4753</td>\n",
       "    </tr>\n",
       "    <tr>\n",
       "      <th>SvobodaRadio</th>\n",
       "      <td>4466</td>\n",
       "      <td>4466</td>\n",
       "      <td>4466</td>\n",
       "      <td>4466</td>\n",
       "    </tr>\n",
       "    <tr>\n",
       "      <th>ForbesRussia</th>\n",
       "      <td>1583</td>\n",
       "      <td>1583</td>\n",
       "      <td>1583</td>\n",
       "      <td>1583</td>\n",
       "    </tr>\n",
       "    <tr>\n",
       "      <th>M_Simonyan</th>\n",
       "      <td>767</td>\n",
       "      <td>767</td>\n",
       "      <td>767</td>\n",
       "      <td>767</td>\n",
       "    </tr>\n",
       "    <tr>\n",
       "      <th>1prime_ru</th>\n",
       "      <td>512</td>\n",
       "      <td>512</td>\n",
       "      <td>512</td>\n",
       "      <td>512</td>\n",
       "    </tr>\n",
       "    <tr>\n",
       "      <th>navalny</th>\n",
       "      <td>309</td>\n",
       "      <td>309</td>\n",
       "      <td>309</td>\n",
       "      <td>309</td>\n",
       "    </tr>\n",
       "    <tr>\n",
       "      <th>tvrain</th>\n",
       "      <td>88</td>\n",
       "      <td>88</td>\n",
       "      <td>88</td>\n",
       "      <td>88</td>\n",
       "    </tr>\n",
       "  </tbody>\n",
       "</table>\n",
       "</div>"
      ],
      "text/plain": [
       "              Unnamed: 0   Date  Tweet  New Date\n",
       "User                                            \n",
       "ukraina_ru         10000  10000  10000     10000\n",
       "bbcrussian          4753   4753   4753      4753\n",
       "SvobodaRadio        4466   4466   4466      4466\n",
       "ForbesRussia        1583   1583   1583      1583\n",
       "M_Simonyan           767    767    767       767\n",
       "1prime_ru            512    512    512       512\n",
       "navalny              309    309    309       309\n",
       "tvrain                88     88     88        88"
      ]
     },
     "execution_count": 17,
     "metadata": {},
     "output_type": "execute_result"
    }
   ],
   "source": [
    "accs = df.groupby(['User']).count()\n",
    "accs.sort_values(by='Tweet', ascending = False)"
   ]
  },
  {
   "cell_type": "markdown",
   "id": "ad3bff98",
   "metadata": {},
   "source": [
    "## 3. Sentiment Analysis"
   ]
  },
  {
   "cell_type": "code",
   "execution_count": 44,
   "id": "1d8c391b",
   "metadata": {},
   "outputs": [
    {
     "name": "stderr",
     "output_type": "stream",
     "text": [
      "Warning : `load_model` does not return WordVectorModel or SupervisedModel any more, but a `FastText` object which is very similar.\n"
     ]
    }
   ],
   "source": [
    "from dostoevsky.tokenization import RegexTokenizer\n",
    "from dostoevsky.models import FastTextSocialNetworkModel\n",
    "\n",
    "tokenizer = RegexTokenizer()\n",
    "\n",
    "model = FastTextSocialNetworkModel(tokenizer=tokenizer)\n",
    "\n",
    "messages = df['Tweet']\n",
    "\n",
    "results = model.predict(messages, k=2)\n",
    "\n"
   ]
  },
  {
   "cell_type": "code",
   "execution_count": 75,
   "id": "97979dd1",
   "metadata": {},
   "outputs": [
    {
     "name": "stderr",
     "output_type": "stream",
     "text": [
      "C:\\Users\\Dariia\\AppData\\Local\\Temp\\ipykernel_19904\\460864801.py:3: SettingWithCopyWarning: \n",
      "A value is trying to be set on a copy of a slice from a DataFrame\n",
      "\n",
      "See the caveats in the documentation: https://pandas.pydata.org/pandas-docs/stable/user_guide/indexing.html#returning-a-view-versus-a-copy\n",
      "  df['sentiment'] [i] =results[i]\n"
     ]
    }
   ],
   "source": [
    "for i in range(1, len(df)):\n",
    "    \n",
    "    df['sentiment'] [i] =results[i]"
   ]
  },
  {
   "cell_type": "code",
   "execution_count": 76,
   "id": "8110cd16",
   "metadata": {},
   "outputs": [
    {
     "data": {
      "text/plain": [
       "Unnamed: 0           0\n",
       "Date                 0\n",
       "User                 0\n",
       "Tweet                0\n",
       "New Date             0\n",
       "sentiment            0\n",
       "Neutral sentiment    0\n",
       "dtype: int64"
      ]
     },
     "execution_count": 76,
     "metadata": {},
     "output_type": "execute_result"
    }
   ],
   "source": [
    "# check if there are any nans\n",
    "df.isnull().sum()"
   ]
  },
  {
   "cell_type": "code",
   "execution_count": 77,
   "id": "0b2b9889",
   "metadata": {},
   "outputs": [],
   "source": [
    "df2 = df"
   ]
  },
  {
   "cell_type": "code",
   "execution_count": 78,
   "id": "ac1e0092",
   "metadata": {},
   "outputs": [],
   "source": [
    "df2['Neutral sentiment'] = ''"
   ]
  },
  {
   "cell_type": "code",
   "execution_count": 80,
   "id": "672009b0",
   "metadata": {},
   "outputs": [
    {
     "name": "stderr",
     "output_type": "stream",
     "text": [
      "C:\\Users\\Dariia\\AppData\\Local\\Temp\\ipykernel_19904\\1393453219.py:2: SettingWithCopyWarning: \n",
      "A value is trying to be set on a copy of a slice from a DataFrame\n",
      "\n",
      "See the caveats in the documentation: https://pandas.pydata.org/pandas-docs/stable/user_guide/indexing.html#returning-a-view-versus-a-copy\n",
      "  df2['Neutral sentiment'][i] = str(df2['sentiment'][i])[12:18]\n"
     ]
    }
   ],
   "source": [
    "for i in range(len(df2)):\n",
    "    df2['Neutral sentiment'][i] = str(df2['sentiment'][i])[12:18]"
   ]
  },
  {
   "cell_type": "code",
   "execution_count": 81,
   "id": "1876d5e5",
   "metadata": {},
   "outputs": [],
   "source": [
    "df3 = pd.DataFrame(data = df2, columns = ['User', 'Neutral sentiment'])"
   ]
  },
  {
   "cell_type": "code",
   "execution_count": 82,
   "id": "2a0bd2b5",
   "metadata": {},
   "outputs": [],
   "source": [
    "df3['Neutral sentiment'] = df3['Neutral sentiment'].astype('float')"
   ]
  },
  {
   "cell_type": "code",
   "execution_count": 83,
   "id": "7219f861",
   "metadata": {},
   "outputs": [
    {
     "data": {
      "text/plain": [
       "0     0.9090\n",
       "1     0.8991\n",
       "2     0.8031\n",
       "3     0.8706\n",
       "4     0.9381\n",
       "       ...  \n",
       "83    0.7606\n",
       "84    0.4765\n",
       "85    0.8267\n",
       "86    0.9344\n",
       "87    0.9481\n",
       "Name: Neutral sentiment, Length: 88, dtype: float64"
      ]
     },
     "execution_count": 83,
     "metadata": {},
     "output_type": "execute_result"
    }
   ],
   "source": [
    "gr = df3[df3.User == 'tvrain']\n",
    "gr.columns = gr.columns.to_series().apply(lambda x: x.strip())\n",
    "gr['Neutral sentiment']"
   ]
  },
  {
   "cell_type": "code",
   "execution_count": 84,
   "id": "03180689",
   "metadata": {},
   "outputs": [],
   "source": [
    "avg1 = gr['Neutral sentiment'].sum()/len(gr)"
   ]
  },
  {
   "cell_type": "code",
   "execution_count": 85,
   "id": "71694454",
   "metadata": {},
   "outputs": [
    {
     "data": {
      "text/plain": [
       "0.7795647727272726"
      ]
     },
     "execution_count": 85,
     "metadata": {},
     "output_type": "execute_result"
    }
   ],
   "source": [
    "avg1"
   ]
  },
  {
   "cell_type": "code",
   "execution_count": 86,
   "id": "45af6842",
   "metadata": {},
   "outputs": [
    {
     "data": {
      "text/plain": [
       "<matplotlib.legend.Legend at 0x2d8b120d550>"
      ]
     },
     "execution_count": 86,
     "metadata": {},
     "output_type": "execute_result"
    },
    {
     "data": {
      "image/png": "[encoded data removed]",
      "text/plain": [
       "<Figure size 432x288 with 1 Axes>"
      ]
     },
     "metadata": {
      "needs_background": "light"
     },
     "output_type": "display_data"
    }
   ],
   "source": [
    "gr.plot()\n",
    "plt.axhline(y = avg1, c = 'red', label = 'average')\n",
    "plt.title(\"tvrain\")\n",
    "plt.xlabel('Tweets') \n",
    "plt.ylabel('Sentiment') \n",
    "plt.legend()"
   ]
  },
  {
   "cell_type": "code",
   "execution_count": 87,
   "id": "0f66261b",
   "metadata": {},
   "outputs": [
    {
     "data": {
      "text/plain": [
       "array(['tvrain', 'navalny', 'bbcrussian', 'ukraina_ru', '1prime_ru',\n",
       "       'M_Simonyan', 'ForbesRussia', 'SvobodaRadio'], dtype=object)"
      ]
     },
     "execution_count": 87,
     "metadata": {},
     "output_type": "execute_result"
    }
   ],
   "source": [
    "df3['User'].unique()"
   ]
  },
  {
   "cell_type": "code",
   "execution_count": 88,
   "id": "92ef0aee",
   "metadata": {},
   "outputs": [
    {
     "data": {
      "text/plain": [
       "0      0.3550\n",
       "1      0.3345\n",
       "2      0.3702\n",
       "3      0.6370\n",
       "4      0.7431\n",
       "        ...  \n",
       "762    0.1871\n",
       "763    0.5926\n",
       "764    0.3345\n",
       "765    0.8519\n",
       "766    0.5000\n",
       "Name: Neutral sentiment, Length: 767, dtype: float64"
      ]
     },
     "execution_count": 88,
     "metadata": {},
     "output_type": "execute_result"
    }
   ],
   "source": [
    "gr1 = df3[df3.User == 'M_Simonyan']\n",
    "gr1.columns = gr.columns.to_series().apply(lambda x: x.strip())\n",
    "gr1=gr1.reset_index()\n",
    "gr1['Neutral sentiment']\n"
   ]
  },
  {
   "cell_type": "code",
   "execution_count": 89,
   "id": "f949bba7",
   "metadata": {},
   "outputs": [],
   "source": [
    "gr1 = gr1.drop(gr1[gr1['Neutral sentiment'] > 1].index)"
   ]
  },
  {
   "cell_type": "code",
   "execution_count": 90,
   "id": "fa07bf7a",
   "metadata": {},
   "outputs": [],
   "source": [
    "avg_ukr = gr1['Neutral sentiment'].sum()/len(gr1)"
   ]
  },
  {
   "cell_type": "code",
   "execution_count": 91,
   "id": "ac5d2892",
   "metadata": {},
   "outputs": [
    {
     "data": {
      "text/plain": [
       "0.6141872751322751"
      ]
     },
     "execution_count": 91,
     "metadata": {},
     "output_type": "execute_result"
    }
   ],
   "source": [
    "avg_ukr"
   ]
  },
  {
   "cell_type": "code",
   "execution_count": 92,
   "id": "8e7a43df",
   "metadata": {},
   "outputs": [
    {
     "data": {
      "text/plain": [
       "<matplotlib.legend.Legend at 0x2d8afb32520>"
      ]
     },
     "execution_count": 92,
     "metadata": {},
     "output_type": "execute_result"
    },
    {
     "data": {
      "image/png": "[encoded data removed]",
      "text/plain": [
       "<Figure size 432x288 with 1 Axes>"
      ]
     },
     "metadata": {
      "needs_background": "light"
     },
     "output_type": "display_data"
    }
   ],
   "source": [
    "gr1.plot(y = 'Neutral sentiment')\n",
    "plt.axhline(y = avg_ukr, c = 'red', label = 'average')\n",
    "plt.title(\"M_Simonyan\")\n",
    "plt.xlabel('Tweets') \n",
    "plt.ylabel('Sentiment') \n",
    "plt.legend()\n",
    "plt.legend()"
   ]
  },
  {
   "cell_type": "markdown",
   "id": "31e3a8fb",
   "metadata": {},
   "source": [
    "## 4. TDF-IF Analysis"
   ]
  },
  {
   "cell_type": "code",
   "execution_count": 93,
   "id": "8b7e5714",
   "metadata": {},
   "outputs": [],
   "source": [
    "cleaned = df"
   ]
  },
  {
   "cell_type": "code",
   "execution_count": 96,
   "id": "eac1089e",
   "metadata": {},
   "outputs": [],
   "source": [
    "#Create lemmatizer and stopwords list\n",
    "\n",
    "mystem = Mystem() \n",
    "russian_stopwords = stopwords.words(\"russian\")\n",
    "\n",
    "#Preprocess function\n",
    "def preprocess_text(text):\n",
    "    tokens = mystem.lemmatize(text.lower())\n",
    "    tokens = [token for token in tokens if token not in russian_stopwords\\\n",
    "              and token != \" \" \\\n",
    "              and token.strip() not in punctuation]\n",
    "    \n",
    "    text = \" \".join(tokens)\n",
    "    \n",
    "    return text"
   ]
  },
  {
   "cell_type": "code",
   "execution_count": 121,
   "id": "a2d09592",
   "metadata": {},
   "outputs": [],
   "source": [
    "cleaned['Tweet']=cleaned['Tweet'].apply(lambda x: preprocess_text(x) )"
   ]
  },
  {
   "cell_type": "code",
   "execution_count": 122,
   "id": "58c3b6eb",
   "metadata": {},
   "outputs": [],
   "source": [
    "cleaned.to_csv('lemmatized_data.csv', encoding='utf-8')"
   ]
  },
  {
   "cell_type": "code",
   "execution_count": 104,
   "id": "0a02ed64",
   "metadata": {},
   "outputs": [],
   "source": [
    "cleaned = pd.read_csv('lemmatized_data.csv', encoding='utf-8')"
   ]
  },
  {
   "cell_type": "code",
   "execution_count": 105,
   "id": "cf7726ca",
   "metadata": {},
   "outputs": [],
   "source": [
    "gr  = cleaned\n",
    "gr['New Date'] = df['New Date']\n",
    "\n",
    "gr = pd.DataFrame(gr, columns = ['Tweet', 'New Date'])\n",
    "gr['month'] = pd.DatetimeIndex(gr['New Date']).month\n"
   ]
  },
  {
   "cell_type": "code",
   "execution_count": 106,
   "id": "cb07881f",
   "metadata": {},
   "outputs": [],
   "source": [
    "gr['alltw'] = gr.groupby(['month'])['Tweet'].transform(lambda x : ' '.join(x))\n",
    "gr=gr.groupby('month').first().reset_index()"
   ]
  },
  {
   "cell_type": "code",
   "execution_count": 107,
   "id": "1c52e742",
   "metadata": {},
   "outputs": [
    {
     "data": {
      "text/html": [
       "<div>\n",
       "<style scoped>\n",
       "    .dataframe tbody tr th:only-of-type {\n",
       "        vertical-align: middle;\n",
       "    }\n",
       "\n",
       "    .dataframe tbody tr th {\n",
       "        vertical-align: top;\n",
       "    }\n",
       "\n",
       "    .dataframe thead th {\n",
       "        text-align: right;\n",
       "    }\n",
       "</style>\n",
       "<table border=\"1\" class=\"dataframe\">\n",
       "  <thead>\n",
       "    <tr style=\"text-align: right;\">\n",
       "      <th></th>\n",
       "      <th>month</th>\n",
       "      <th>New Date</th>\n",
       "      <th>alltw</th>\n",
       "    </tr>\n",
       "  </thead>\n",
       "  <tbody>\n",
       "    <tr>\n",
       "      <th>0</th>\n",
       "      <td>2</td>\n",
       "      <td>2022-02-28</td>\n",
       "      <td>путин подписывать указ специальный экономическ...</td>\n",
       "    </tr>\n",
       "    <tr>\n",
       "      <th>1</th>\n",
       "      <td>3</td>\n",
       "      <td>2022-03-02</td>\n",
       "      <td>украинский футболист ярослав ракицкий расторга...</td>\n",
       "    </tr>\n",
       "    <tr>\n",
       "      <th>2</th>\n",
       "      <td>4</td>\n",
       "      <td>2022-04-29</td>\n",
       "      <td>дирижер путинский война https  // t co fobbzc5...</td>\n",
       "    </tr>\n",
       "    <tr>\n",
       "      <th>3</th>\n",
       "      <td>5</td>\n",
       "      <td>2022-05-31</td>\n",
       "      <td>растерзанный мариуполь избегать призыв поддерж...</td>\n",
       "    </tr>\n",
       "    <tr>\n",
       "      <th>4</th>\n",
       "      <td>6</td>\n",
       "      <td>2022-06-30</td>\n",
       "      <td>❗ ️  новость погибать генерал кутузов леопард ...</td>\n",
       "    </tr>\n",
       "    <tr>\n",
       "      <th>5</th>\n",
       "      <td>7</td>\n",
       "      <td>2022-07-19</td>\n",
       "      <td>начинаться новость наш телегр канал снова чита...</td>\n",
       "    </tr>\n",
       "    <tr>\n",
       "      <th>6</th>\n",
       "      <td>8</td>\n",
       "      <td>2022-08-31</td>\n",
       "      <td>вера павлова 27 апрель читать ингеборга дапкун...</td>\n",
       "    </tr>\n",
       "    <tr>\n",
       "      <th>7</th>\n",
       "      <td>9</td>\n",
       "      <td>2022-09-23</td>\n",
       "      <td>включать дождь 20.00 тихон дзядко подводить ит...</td>\n",
       "    </tr>\n",
       "    <tr>\n",
       "      <th>8</th>\n",
       "      <td>10</td>\n",
       "      <td>2022-10-20</td>\n",
       "      <td>22 28 никто требовать казнить любитель путин с...</td>\n",
       "    </tr>\n",
       "    <tr>\n",
       "      <th>9</th>\n",
       "      <td>11</td>\n",
       "      <td>2022-11-17</td>\n",
       "      <td>2 10 1 уголовный дело возбуждать б путин врать...</td>\n",
       "    </tr>\n",
       "  </tbody>\n",
       "</table>\n",
       "</div>"
      ],
      "text/plain": [
       "   month   New Date                                              alltw\n",
       "0      2 2022-02-28  путин подписывать указ специальный экономическ...\n",
       "1      3 2022-03-02  украинский футболист ярослав ракицкий расторга...\n",
       "2      4 2022-04-29  дирижер путинский война https  // t co fobbzc5...\n",
       "3      5 2022-05-31  растерзанный мариуполь избегать призыв поддерж...\n",
       "4      6 2022-06-30  ❗ ️  новость погибать генерал кутузов леопард ...\n",
       "5      7 2022-07-19  начинаться новость наш телегр канал снова чита...\n",
       "6      8 2022-08-31  вера павлова 27 апрель читать ингеборга дапкун...\n",
       "7      9 2022-09-23  включать дождь 20.00 тихон дзядко подводить ит...\n",
       "8     10 2022-10-20  22 28 никто требовать казнить любитель путин с...\n",
       "9     11 2022-11-17  2 10 1 уголовный дело возбуждать б путин врать..."
      ]
     },
     "execution_count": 107,
     "metadata": {},
     "output_type": "execute_result"
    }
   ],
   "source": [
    "gr.drop(['Tweet'], axis=1)"
   ]
  },
  {
   "cell_type": "code",
   "execution_count": 110,
   "id": "78980286",
   "metadata": {},
   "outputs": [
    {
     "name": "stderr",
     "output_type": "stream",
     "text": [
      "C:\\Users\\Dariia\\anaconda3\\lib\\site-packages\\sklearn\\utils\\deprecation.py:87: FutureWarning: Function get_feature_names is deprecated; get_feature_names is deprecated in 1.0 and will be removed in 1.2. Please use get_feature_names_out instead.\n",
      "  warnings.warn(msg, category=FutureWarning)\n"
     ]
    }
   ],
   "source": [
    "tfidf_vectorizer = TfidfVectorizer(max_df=0.5, min_df=0, stop_words= None)\n",
    "# right\n",
    "tfidf = tfidf_vectorizer.fit_transform(gr['alltw'])\n",
    "tfidf_df = pd.DataFrame(tfidf.toarray(), index=gr[\"month\"], columns=tfidf_vectorizer.get_feature_names())\n",
    "tfidf_df=tfidf_df.stack().reset_index()\n",
    "tfidf_df = tfidf_df.rename(columns={0:'tfidf', 'level_1': 'term'})"
   ]
  },
  {
   "cell_type": "code",
   "execution_count": 115,
   "id": "fe63f8b1",
   "metadata": {},
   "outputs": [],
   "source": [
    "tfidf_df15=tfidf_df.sort_values(by=['month','tfidf'], ascending=[True,False]).groupby(['month']).head(15)"
   ]
  }
 ],
 "metadata": {
  "kernelspec": {
   "display_name": "Python 3 (ipykernel)",
   "language": "python",
   "name": "python3"
  },
  "language_info": {
   "codemirror_mode": {
    "name": "ipython",
    "version": 3
   },
   "file_extension": ".py",
   "mimetype": "text/x-python",
   "name": "python",
   "nbconvert_exporter": "python",
   "pygments_lexer": "ipython3",
   "version": "3.9.12"
  }
 },
 "nbformat": 4,
 "nbformat_minor": 5
}
